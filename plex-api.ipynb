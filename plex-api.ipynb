{
 "metadata": {
  "language_info": {
   "codemirror_mode": {
    "name": "ipython",
    "version": 3
   },
   "file_extension": ".py",
   "mimetype": "text/x-python",
   "name": "python",
   "nbconvert_exporter": "python",
   "pygments_lexer": "ipython3",
   "version": "3.9.0-final"
  },
  "orig_nbformat": 2,
  "kernelspec": {
   "name": "python3",
   "display_name": "Python 3.9.0 64-bit ('venv')",
   "metadata": {
    "interpreter": {
     "hash": "e6d89d42a264794c9246a01f3ce04ea444a75b6d048296d8cf73a23ef656b7fa"
    }
   }
  }
 },
 "nbformat": 4,
 "nbformat_minor": 2,
 "cells": [
  {
   "cell_type": "code",
   "execution_count": 50,
   "metadata": {},
   "outputs": [],
   "source": [
    "from plexapi.server import PlexServer\n",
    "from IPython.display import Image, display\n",
    "import getpass\n",
    "\n",
    "token = getpass.getpass()\n"
   ]
  },
  {
   "cell_type": "code",
   "execution_count": 52,
   "metadata": {},
   "outputs": [
    {
     "output_type": "execute_result",
     "data": {
      "text/plain": [
       "[<MusicSection:6:Audiobooks>,\n",
       " <MovieSection:3:Movies>,\n",
       " <MovieSection:1:Movies-Evan>,\n",
       " <MovieSection:7:Movies-Evan---Meh>,\n",
       " <ShowSection:4:TV-Shows>,\n",
       " <ShowSection:2:TV-Shows-Evan>]"
      ]
     },
     "metadata": {},
     "execution_count": 52
    }
   ],
   "source": [
    "\n",
    "plex = PlexServer(\"http://192.168.1.222:32400\", token=token)\n",
    "\n",
    "# List all sections of the user's library\n",
    "plex.library.sections()"
   ]
  },
  {
   "cell_type": "code",
   "execution_count": 47,
   "metadata": {},
   "outputs": [
    {
     "output_type": "stream",
     "name": "stdout",
     "text": [
      "/library/metadata/300/thumb/1589161727\nSpider-Man 3 (movie)\nhttp://192.168.1.222:32400/library/metadata/300/art/1589161727?X-Plex-Token=MUiwpLUTc24xp8UPjGWe\n/library/metadata/299/thumb/1589161727\nSpider-Man 2 (movie)\nhttp://192.168.1.222:32400/library/metadata/299/art/1589161727?X-Plex-Token=MUiwpLUTc24xp8UPjGWe\n/library/metadata/297/thumb/1589161727\nSpider-Man (movie)\nhttp://192.168.1.222:32400/library/metadata/297/art/1589161727?X-Plex-Token=MUiwpLUTc24xp8UPjGWe\n/library/metadata/9487/thumb/1590420588\nAre You a Spider, Matt? (episode)\nhttp://192.168.1.222:32400/library/metadata/9478/art/1590420588?X-Plex-Token=MUiwpLUTc24xp8UPjGWe\n"
     ]
    }
   ],
   "source": [
    "for video in plex.search(\"spider\"):\n",
    "    # # print(type(video))\n",
    "    # # print(vars(video))\n",
    "    # display(video)\n",
    "    print(video.thumb)\n",
    "    print('%s (%s)' % (video.title, video.type,))\n",
    "    print(plex.url(video.art, includeToken=True))\n",
    "    # display(Image(plex.url(video.art, includeToken=True), format='png', height=200, width=200))"
   ]
  }
 ]
}