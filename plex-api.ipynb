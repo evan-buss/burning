{
 "metadata": {
  "language_info": {
   "codemirror_mode": {
    "name": "ipython",
    "version": 3
   },
   "file_extension": ".py",
   "mimetype": "text/x-python",
   "name": "python",
   "nbconvert_exporter": "python",
   "pygments_lexer": "ipython3",
   "version": "3.9.0-final"
  },
  "orig_nbformat": 2,
  "kernelspec": {
   "name": "python3",
   "display_name": "Python 3.9.0 64-bit ('venv')",
   "metadata": {
    "interpreter": {
     "hash": "e6d89d42a264794c9246a01f3ce04ea444a75b6d048296d8cf73a23ef656b7fa"
    }
   }
  }
 },
 "nbformat": 4,
 "nbformat_minor": 2,
 "cells": [
  {
   "cell_type": "code",
   "execution_count": 56,
   "metadata": {},
   "outputs": [],
   "source": [
    "from plexapi.server import PlexServer\n",
    "from plexapi.myplex import MyPlexAccount\n",
    "from IPython.display import Image, display\n",
    "import getpass\n",
    "\n",
    "token = getpass.getpass()\n"
   ]
  },
  {
   "cell_type": "code",
   "execution_count": 64,
   "metadata": {},
   "outputs": [
    {
     "output_type": "error",
     "ename": "TypeError",
     "evalue": "vars() argument must have __dict__ attribute",
     "traceback": [
      "\u001b[1;31m---------------------------------------------------------------------------\u001b[0m",
      "\u001b[1;31mTypeError\u001b[0m                                 Traceback (most recent call last)",
      "\u001b[1;32m<ipython-input-64-10f8c1aec052>\u001b[0m in \u001b[0;36m<module>\u001b[1;34m\u001b[0m\n\u001b[0;32m      6\u001b[0m \u001b[1;33m\u001b[0m\u001b[0m\n\u001b[0;32m      7\u001b[0m \u001b[1;31m# [vars(act) for act in acct.users()]\u001b[0m\u001b[1;33m\u001b[0m\u001b[1;33m\u001b[0m\u001b[1;33m\u001b[0m\u001b[0m\n\u001b[1;32m----> 8\u001b[1;33m \u001b[0mvars\u001b[0m\u001b[1;33m(\u001b[0m\u001b[0macct\u001b[0m\u001b[1;33m.\u001b[0m\u001b[0mresources\u001b[0m\u001b[1;33m(\u001b[0m\u001b[1;33m)\u001b[0m\u001b[1;33m[\u001b[0m\u001b[1;36m0\u001b[0m\u001b[1;33m]\u001b[0m\u001b[1;33m.\u001b[0m\u001b[0mconnect\u001b[0m\u001b[1;33m(\u001b[0m\u001b[1;33m)\u001b[0m\u001b[1;33m.\u001b[0m\u001b[0maccount\u001b[0m\u001b[1;33m(\u001b[0m\u001b[1;33m)\u001b[0m\u001b[1;33m.\u001b[0m\u001b[0mpublicAddress\u001b[0m\u001b[1;33m)\u001b[0m\u001b[1;33m\u001b[0m\u001b[1;33m\u001b[0m\u001b[0m\n\u001b[0m",
      "\u001b[1;31mTypeError\u001b[0m: vars() argument must have __dict__ attribute"
     ]
    }
   ],
   "source": [
    "\n",
    "plex = PlexServer(\"http://192.168.1.222:32400\", token=token)\n",
    "acct = MyPlexAccount(token=token)\n",
    "\n",
    "# List all sections of the user's library\n",
    "# plex.library.sections()\n",
    "\n",
    "# [vars(act) for act in acct.users()]\n",
    "acct.resources()[0].connect().account().publicAddress\n"
   ]
  },
  {
   "cell_type": "code",
   "execution_count": 47,
   "metadata": {},
   "outputs": [
    {
     "output_type": "stream",
     "name": "stdout",
     "text": [
      "/library/metadata/300/thumb/1589161727\nSpider-Man 3 (movie)\nhttp://192.168.1.222:32400/library/metadata/300/art/1589161727?X-Plex-Token=MUiwpLUTc24xp8UPjGWe\n/library/metadata/299/thumb/1589161727\nSpider-Man 2 (movie)\nhttp://192.168.1.222:32400/library/metadata/299/art/1589161727?X-Plex-Token=MUiwpLUTc24xp8UPjGWe\n/library/metadata/297/thumb/1589161727\nSpider-Man (movie)\nhttp://192.168.1.222:32400/library/metadata/297/art/1589161727?X-Plex-Token=MUiwpLUTc24xp8UPjGWe\n/library/metadata/9487/thumb/1590420588\nAre You a Spider, Matt? (episode)\nhttp://192.168.1.222:32400/library/metadata/9478/art/1590420588?X-Plex-Token=MUiwpLUTc24xp8UPjGWe\n"
     ]
    }
   ],
   "source": [
    "for video in plex.search(\"spider\"):\n",
    "    # # print(type(video))\n",
    "    # # print(vars(video))\n",
    "    # display(video)\n",
    "    print(video.thumb)\n",
    "    print('%s (%s)' % (video.title, video.type,))\n",
    "    print(plex.url(video.art, includeToken=True))\n",
    "    # display(Image(plex.url(video.art, includeToken=True), format='png', height=200, width=200))"
   ]
  }
 ]
}